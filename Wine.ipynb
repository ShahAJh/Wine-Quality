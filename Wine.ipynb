{
  "nbformat": 4,
  "nbformat_minor": 0,
  "metadata": {
    "colab": {
      "provenance": [],
      "collapsed_sections": []
    },
    "kernelspec": {
      "name": "python3",
      "display_name": "Python 3"
    },
    "language_info": {
      "name": "python"
    }
  },
  "cells": [
    {
      "cell_type": "code",
      "source": [
        "# Importing Pandas and numpy libraries for data manipulation\n",
        "import numpy as np\n",
        "import pandas as pd\n",
        "\n",
        "# Importing matplotlib & seaborn libraries for data visualization\n",
        "import matplotlib.pyplot as plt\n",
        "import seaborn as sns\n",
        "\n",
        "#importing train test split for data spliting\n",
        "from sklearn.model_selection import train_test_split\n",
        "\n",
        "# Importing libraries for data normalization\n",
        "from sklearn.preprocessing import MinMaxScaler\n",
        "from scipy.spatial.distance import cdist\n",
        "\n",
        "#Importing packages for model evaluation\n",
        "from sklearn import metrics\n",
        "from sklearn.model_selection import cross_val_score\n",
        "\n",
        "# Importing models for fitting\n",
        "from sklearn.svm import SVC\n",
        "from xgboost import XGBClassifier\n",
        "from sklearn.linear_model import LogisticRegression\n",
        "from sklearn.neighbors import KNeighborsClassifier\n",
        "import keras \n",
        "from sklearn.cluster import KMeans\n",
        "import tensorflow"
      ],
      "metadata": {
        "id": "RP4Y3oXCgX9H"
      },
      "execution_count": 1,
      "outputs": []
    },
    {
      "cell_type": "code",
      "source": [
        "#loading dataset\n",
        "dataset=pd.read_csv(\"/content/drive/MyDrive/Dataset General/winequalityN.csv\")"
      ],
      "metadata": {
        "id": "wNIAxY7chRtA"
      },
      "execution_count": 2,
      "outputs": []
    },
    {
      "cell_type": "code",
      "source": [
        "#Using describe method to view basic statistical details\n",
        "dataset.describe()"
      ],
      "metadata": {
        "colab": {
          "base_uri": "https://localhost:8080/",
          "height": 362
        },
        "id": "jq6-lSexiNp8",
        "outputId": "0f2dfb1c-a9f6-4d1b-a12c-84d611007cfd"
      },
      "execution_count": 4,
      "outputs": [
        {
          "output_type": "execute_result",
          "data": {
            "text/plain": [
              "       fixed acidity  volatile acidity  citric acid  residual sugar  \\\n",
              "count    6487.000000       6489.000000  6494.000000     6495.000000   \n",
              "mean        7.216579          0.339958     0.318722        5.444326   \n",
              "std         1.296750          0.164988     0.145265        4.758125   \n",
              "min         3.800000          0.080000     0.000000        0.600000   \n",
              "25%         6.400000          0.230000     0.250000        1.800000   \n",
              "50%         7.000000          0.290000     0.310000        3.000000   \n",
              "75%         7.700000          0.400000     0.390000        8.100000   \n",
              "max        15.900000          1.580000     1.660000       65.800000   \n",
              "\n",
              "         chlorides  free sulfur dioxide  total sulfur dioxide      density  \\\n",
              "count  6495.000000          6497.000000           6497.000000  6497.000000   \n",
              "mean      0.056522            30.525319            115.744574     0.994911   \n",
              "std       0.035127            17.749400             56.521855     0.005036   \n",
              "min       0.010000             1.000000              6.000000     0.990000   \n",
              "25%       0.040000            17.000000             77.000000     0.990000   \n",
              "50%       0.050000            29.000000            118.000000     0.990000   \n",
              "75%       0.070000            41.000000            156.000000     1.000000   \n",
              "max       0.610000           289.000000            440.000000     1.040000   \n",
              "\n",
              "                pH    sulphates      alcohol      quality  \n",
              "count  6488.000000  6493.000000  6497.000000  6497.000000  \n",
              "mean      3.218395     0.531215    10.491795     5.818378  \n",
              "std       0.160748     0.148814     1.192712     0.873255  \n",
              "min       2.720000     0.220000     8.000000     3.000000  \n",
              "25%       3.110000     0.430000     9.500000     5.000000  \n",
              "50%       3.210000     0.510000    10.300000     6.000000  \n",
              "75%       3.320000     0.600000    11.300000     6.000000  \n",
              "max       4.010000     2.000000    14.900000     9.000000  "
            ],
            "text/html": [
              "\n",
              "  <div id=\"df-d31c3258-fac0-410c-83fc-56d0c087ef2e\">\n",
              "    <div class=\"colab-df-container\">\n",
              "      <div>\n",
              "<style scoped>\n",
              "    .dataframe tbody tr th:only-of-type {\n",
              "        vertical-align: middle;\n",
              "    }\n",
              "\n",
              "    .dataframe tbody tr th {\n",
              "        vertical-align: top;\n",
              "    }\n",
              "\n",
              "    .dataframe thead th {\n",
              "        text-align: right;\n",
              "    }\n",
              "</style>\n",
              "<table border=\"1\" class=\"dataframe\">\n",
              "  <thead>\n",
              "    <tr style=\"text-align: right;\">\n",
              "      <th></th>\n",
              "      <th>fixed acidity</th>\n",
              "      <th>volatile acidity</th>\n",
              "      <th>citric acid</th>\n",
              "      <th>residual sugar</th>\n",
              "      <th>chlorides</th>\n",
              "      <th>free sulfur dioxide</th>\n",
              "      <th>total sulfur dioxide</th>\n",
              "      <th>density</th>\n",
              "      <th>pH</th>\n",
              "      <th>sulphates</th>\n",
              "      <th>alcohol</th>\n",
              "      <th>quality</th>\n",
              "    </tr>\n",
              "  </thead>\n",
              "  <tbody>\n",
              "    <tr>\n",
              "      <th>count</th>\n",
              "      <td>6487.000000</td>\n",
              "      <td>6489.000000</td>\n",
              "      <td>6494.000000</td>\n",
              "      <td>6495.000000</td>\n",
              "      <td>6495.000000</td>\n",
              "      <td>6497.000000</td>\n",
              "      <td>6497.000000</td>\n",
              "      <td>6497.000000</td>\n",
              "      <td>6488.000000</td>\n",
              "      <td>6493.000000</td>\n",
              "      <td>6497.000000</td>\n",
              "      <td>6497.000000</td>\n",
              "    </tr>\n",
              "    <tr>\n",
              "      <th>mean</th>\n",
              "      <td>7.216579</td>\n",
              "      <td>0.339958</td>\n",
              "      <td>0.318722</td>\n",
              "      <td>5.444326</td>\n",
              "      <td>0.056522</td>\n",
              "      <td>30.525319</td>\n",
              "      <td>115.744574</td>\n",
              "      <td>0.994911</td>\n",
              "      <td>3.218395</td>\n",
              "      <td>0.531215</td>\n",
              "      <td>10.491795</td>\n",
              "      <td>5.818378</td>\n",
              "    </tr>\n",
              "    <tr>\n",
              "      <th>std</th>\n",
              "      <td>1.296750</td>\n",
              "      <td>0.164988</td>\n",
              "      <td>0.145265</td>\n",
              "      <td>4.758125</td>\n",
              "      <td>0.035127</td>\n",
              "      <td>17.749400</td>\n",
              "      <td>56.521855</td>\n",
              "      <td>0.005036</td>\n",
              "      <td>0.160748</td>\n",
              "      <td>0.148814</td>\n",
              "      <td>1.192712</td>\n",
              "      <td>0.873255</td>\n",
              "    </tr>\n",
              "    <tr>\n",
              "      <th>min</th>\n",
              "      <td>3.800000</td>\n",
              "      <td>0.080000</td>\n",
              "      <td>0.000000</td>\n",
              "      <td>0.600000</td>\n",
              "      <td>0.010000</td>\n",
              "      <td>1.000000</td>\n",
              "      <td>6.000000</td>\n",
              "      <td>0.990000</td>\n",
              "      <td>2.720000</td>\n",
              "      <td>0.220000</td>\n",
              "      <td>8.000000</td>\n",
              "      <td>3.000000</td>\n",
              "    </tr>\n",
              "    <tr>\n",
              "      <th>25%</th>\n",
              "      <td>6.400000</td>\n",
              "      <td>0.230000</td>\n",
              "      <td>0.250000</td>\n",
              "      <td>1.800000</td>\n",
              "      <td>0.040000</td>\n",
              "      <td>17.000000</td>\n",
              "      <td>77.000000</td>\n",
              "      <td>0.990000</td>\n",
              "      <td>3.110000</td>\n",
              "      <td>0.430000</td>\n",
              "      <td>9.500000</td>\n",
              "      <td>5.000000</td>\n",
              "    </tr>\n",
              "    <tr>\n",
              "      <th>50%</th>\n",
              "      <td>7.000000</td>\n",
              "      <td>0.290000</td>\n",
              "      <td>0.310000</td>\n",
              "      <td>3.000000</td>\n",
              "      <td>0.050000</td>\n",
              "      <td>29.000000</td>\n",
              "      <td>118.000000</td>\n",
              "      <td>0.990000</td>\n",
              "      <td>3.210000</td>\n",
              "      <td>0.510000</td>\n",
              "      <td>10.300000</td>\n",
              "      <td>6.000000</td>\n",
              "    </tr>\n",
              "    <tr>\n",
              "      <th>75%</th>\n",
              "      <td>7.700000</td>\n",
              "      <td>0.400000</td>\n",
              "      <td>0.390000</td>\n",
              "      <td>8.100000</td>\n",
              "      <td>0.070000</td>\n",
              "      <td>41.000000</td>\n",
              "      <td>156.000000</td>\n",
              "      <td>1.000000</td>\n",
              "      <td>3.320000</td>\n",
              "      <td>0.600000</td>\n",
              "      <td>11.300000</td>\n",
              "      <td>6.000000</td>\n",
              "    </tr>\n",
              "    <tr>\n",
              "      <th>max</th>\n",
              "      <td>15.900000</td>\n",
              "      <td>1.580000</td>\n",
              "      <td>1.660000</td>\n",
              "      <td>65.800000</td>\n",
              "      <td>0.610000</td>\n",
              "      <td>289.000000</td>\n",
              "      <td>440.000000</td>\n",
              "      <td>1.040000</td>\n",
              "      <td>4.010000</td>\n",
              "      <td>2.000000</td>\n",
              "      <td>14.900000</td>\n",
              "      <td>9.000000</td>\n",
              "    </tr>\n",
              "  </tbody>\n",
              "</table>\n",
              "</div>\n",
              "      <button class=\"colab-df-convert\" onclick=\"convertToInteractive('df-d31c3258-fac0-410c-83fc-56d0c087ef2e')\"\n",
              "              title=\"Convert this dataframe to an interactive table.\"\n",
              "              style=\"display:none;\">\n",
              "        \n",
              "  <svg xmlns=\"http://www.w3.org/2000/svg\" height=\"24px\"viewBox=\"0 0 24 24\"\n",
              "       width=\"24px\">\n",
              "    <path d=\"M0 0h24v24H0V0z\" fill=\"none\"/>\n",
              "    <path d=\"M18.56 5.44l.94 2.06.94-2.06 2.06-.94-2.06-.94-.94-2.06-.94 2.06-2.06.94zm-11 1L8.5 8.5l.94-2.06 2.06-.94-2.06-.94L8.5 2.5l-.94 2.06-2.06.94zm10 10l.94 2.06.94-2.06 2.06-.94-2.06-.94-.94-2.06-.94 2.06-2.06.94z\"/><path d=\"M17.41 7.96l-1.37-1.37c-.4-.4-.92-.59-1.43-.59-.52 0-1.04.2-1.43.59L10.3 9.45l-7.72 7.72c-.78.78-.78 2.05 0 2.83L4 21.41c.39.39.9.59 1.41.59.51 0 1.02-.2 1.41-.59l7.78-7.78 2.81-2.81c.8-.78.8-2.07 0-2.86zM5.41 20L4 18.59l7.72-7.72 1.47 1.35L5.41 20z\"/>\n",
              "  </svg>\n",
              "      </button>\n",
              "      \n",
              "  <style>\n",
              "    .colab-df-container {\n",
              "      display:flex;\n",
              "      flex-wrap:wrap;\n",
              "      gap: 12px;\n",
              "    }\n",
              "\n",
              "    .colab-df-convert {\n",
              "      background-color: #E8F0FE;\n",
              "      border: none;\n",
              "      border-radius: 50%;\n",
              "      cursor: pointer;\n",
              "      display: none;\n",
              "      fill: #1967D2;\n",
              "      height: 32px;\n",
              "      padding: 0 0 0 0;\n",
              "      width: 32px;\n",
              "    }\n",
              "\n",
              "    .colab-df-convert:hover {\n",
              "      background-color: #E2EBFA;\n",
              "      box-shadow: 0px 1px 2px rgba(60, 64, 67, 0.3), 0px 1px 3px 1px rgba(60, 64, 67, 0.15);\n",
              "      fill: #174EA6;\n",
              "    }\n",
              "\n",
              "    [theme=dark] .colab-df-convert {\n",
              "      background-color: #3B4455;\n",
              "      fill: #D2E3FC;\n",
              "    }\n",
              "\n",
              "    [theme=dark] .colab-df-convert:hover {\n",
              "      background-color: #434B5C;\n",
              "      box-shadow: 0px 1px 3px 1px rgba(0, 0, 0, 0.15);\n",
              "      filter: drop-shadow(0px 1px 2px rgba(0, 0, 0, 0.3));\n",
              "      fill: #FFFFFF;\n",
              "    }\n",
              "  </style>\n",
              "\n",
              "      <script>\n",
              "        const buttonEl =\n",
              "          document.querySelector('#df-d31c3258-fac0-410c-83fc-56d0c087ef2e button.colab-df-convert');\n",
              "        buttonEl.style.display =\n",
              "          google.colab.kernel.accessAllowed ? 'block' : 'none';\n",
              "\n",
              "        async function convertToInteractive(key) {\n",
              "          const element = document.querySelector('#df-d31c3258-fac0-410c-83fc-56d0c087ef2e');\n",
              "          const dataTable =\n",
              "            await google.colab.kernel.invokeFunction('convertToInteractive',\n",
              "                                                     [key], {});\n",
              "          if (!dataTable) return;\n",
              "\n",
              "          const docLinkHtml = 'Like what you see? Visit the ' +\n",
              "            '<a target=\"_blank\" href=https://colab.research.google.com/notebooks/data_table.ipynb>data table notebook</a>'\n",
              "            + ' to learn more about interactive tables.';\n",
              "          element.innerHTML = '';\n",
              "          dataTable['output_type'] = 'display_data';\n",
              "          await google.colab.output.renderOutput(dataTable, element);\n",
              "          const docLink = document.createElement('div');\n",
              "          docLink.innerHTML = docLinkHtml;\n",
              "          element.appendChild(docLink);\n",
              "        }\n",
              "      </script>\n",
              "    </div>\n",
              "  </div>\n",
              "  "
            ]
          },
          "metadata": {},
          "execution_count": 4
        }
      ]
    },
    {
      "cell_type": "code",
      "source": [
        "#Visualizing the frequency of values in a metric variable’s intervals\n",
        "dataset.hist(figsize=[12, 12])\n",
        "plt.show()"
      ],
      "metadata": {
        "colab": {
          "base_uri": "https://localhost:8080/",
          "height": 716
        },
        "id": "LQeoZlFrVg3J",
        "outputId": "c7fdec84-f834-449f-a7eb-81f6c6058a2c"
      },
      "execution_count": 5,
      "outputs": [
        {
          "output_type": "display_data",
          "data": {
            "text/plain": [
              "<Figure size 864x864 with 12 Axes>"
            ],
            "image/png": "[encoded data removed]"
          },
          "metadata": {
            "needs_background": "light"
          }
        }
      ]
    },
    {
      "cell_type": "markdown",
      "source": [
        "# **Data Preprocessing**"
      ],
      "metadata": {
        "id": "6zWVvrgY1mjI"
      }
    },
    {
      "cell_type": "code",
      "source": [
        "# checks whether any value in the dataset in nan\n",
        "dataset.isnull().any()"
      ],
      "metadata": {
        "colab": {
          "base_uri": "https://localhost:8080/"
        },
        "id": "tWc9K8KvkPCk",
        "outputId": "8541cf97-3ad2-4601-b5f7-a71651ab90b0"
      },
      "execution_count": 6,
      "outputs": [
        {
          "output_type": "execute_result",
          "data": {
            "text/plain": [
              "type                    False\n",
              "fixed acidity            True\n",
              "volatile acidity         True\n",
              "citric acid              True\n",
              "residual sugar           True\n",
              "chlorides                True\n",
              "free sulfur dioxide     False\n",
              "total sulfur dioxide    False\n",
              "density                 False\n",
              "pH                       True\n",
              "sulphates                True\n",
              "alcohol                 False\n",
              "quality                 False\n",
              "dtype: bool"
            ]
          },
          "metadata": {},
          "execution_count": 6
        }
      ]
    },
    {
      "cell_type": "code",
      "source": [
        "#counting nan values\n",
        "dataset.isna().sum()"
      ],
      "metadata": {
        "colab": {
          "base_uri": "https://localhost:8080/"
        },
        "id": "8Bp-Q2d9rU6L",
        "outputId": "bcbe9030-075f-436f-cb56-a99bb8b50552"
      },
      "execution_count": 7,
      "outputs": [
        {
          "output_type": "execute_result",
          "data": {
            "text/plain": [
              "type                     0\n",
              "fixed acidity           10\n",
              "volatile acidity         8\n",
              "citric acid              3\n",
              "residual sugar           2\n",
              "chlorides                2\n",
              "free sulfur dioxide      0\n",
              "total sulfur dioxide     0\n",
              "density                  0\n",
              "pH                       9\n",
              "sulphates                4\n",
              "alcohol                  0\n",
              "quality                  0\n",
              "dtype: int64"
            ]
          },
          "metadata": {},
          "execution_count": 7
        }
      ]
    },
    {
      "cell_type": "code",
      "source": [
        "#filling features nan values with mean values of features\n",
        "dataset = dataset.fillna(dataset.mean())"
      ],
      "metadata": {
        "colab": {
          "base_uri": "https://localhost:8080/"
        },
        "id": "AI80_nfCawyO",
        "outputId": "833e0267-9ca3-496a-e725-6d3d19fcc10d"
      },
      "execution_count": 8,
      "outputs": [
        {
          "output_type": "stream",
          "name": "stderr",
          "text": [
            "/usr/local/lib/python3.7/dist-packages/ipykernel_launcher.py:2: FutureWarning: Dropping of nuisance columns in DataFrame reductions (with 'numeric_only=None') is deprecated; in a future version this will raise TypeError.  Select only valid columns before calling the reduction.\n",
            "  \n"
          ]
        }
      ]
    },
    {
      "cell_type": "code",
      "source": [
        "#Visualizing co-relation between features\n",
        "plt.figure(figsize=(12, 12))\n",
        "sns.heatmap(dataset.corr() > 0.7, annot=True, cbar=False)\n",
        "plt.show()"
      ],
      "metadata": {
        "colab": {
          "base_uri": "https://localhost:8080/",
          "height": 784
        },
        "id": "a1V250XHD6I4",
        "outputId": "3a752d10-ee6f-479f-d7f3-15e3a5a69dce"
      },
      "execution_count": 9,
      "outputs": [
        {
          "output_type": "display_data",
          "data": {
            "text/plain": [
              "<Figure size 864x864 with 1 Axes>"
            ],
            "image/png": "[encoded data removed]"
          },
          "metadata": {
            "needs_background": "light"
          }
        }
      ]
    },
    {
      "cell_type": "code",
      "source": [
        "#From the above heat map we can conclude that the ‘total sulphur dioxide’ is highly correlated features so, we will remove them.\n",
        "df = dataset.drop('total sulfur dioxide', axis=1)"
      ],
      "metadata": {
        "id": "e7vLoj9iiai-"
      },
      "execution_count": 10,
      "outputs": []
    },
    {
      "cell_type": "code",
      "source": [
        "#segregating the quality feature into zeros and ones\n",
        "df['best quality'] = [1 if x > 5 else 0 for x in df.quality]"
      ],
      "metadata": {
        "id": "uKhr1aZKjB1C"
      },
      "execution_count": 11,
      "outputs": []
    },
    {
      "cell_type": "code",
      "source": [
        "#column with categorical data type will replace it with the 0 and 1 as there are only two categories.\n",
        "df.replace({'white': 1, 'red': 0}, inplace=True)"
      ],
      "metadata": {
        "id": "NWlW0G_ujJUt"
      },
      "execution_count": 12,
      "outputs": []
    },
    {
      "cell_type": "code",
      "source": [
        "#Segregating features and the target variable from the dataset \n",
        "features = df.drop(['quality', 'best quality'], axis=1)\n",
        "target = df['best quality']\n",
        "\n",
        "#Splitting data it into 80:20 ratio for model selection.\n",
        "xtrain, xtest, ytrain, ytest = train_test_split(features, target, test_size=0.2, random_state=40)\n",
        "\n",
        "#checking shape of training data and testing data \n",
        "xtrain.shape, xtest.shape"
      ],
      "metadata": {
        "colab": {
          "base_uri": "https://localhost:8080/"
        },
        "id": "gtXTECykjLzz",
        "outputId": "82c9c1f3-5ce8-433d-ab90-a9b38ac89d01"
      },
      "execution_count": 13,
      "outputs": [
        {
          "output_type": "execute_result",
          "data": {
            "text/plain": [
              "((5197, 11), (1300, 11))"
            ]
          },
          "metadata": {},
          "execution_count": 13
        }
      ]
    },
    {
      "cell_type": "code",
      "source": [
        "#Normalising the data before training help us to achieve stable and fast training of the model.\n",
        "norm = MinMaxScaler()\n",
        "xtrain = norm.fit_transform(xtrain)\n",
        "xtest = norm.transform(xtest)"
      ],
      "metadata": {
        "id": "RDfDvrxJjObm"
      },
      "execution_count": 14,
      "outputs": []
    },
    {
      "cell_type": "markdown",
      "source": [
        "# **Machine Learning Models**"
      ],
      "metadata": {
        "id": "jjNhu_gWZzB0"
      }
    },
    {
      "cell_type": "code",
      "source": [
        "#Using Logistic Regression, XGB Classifier and Support Vector Classifier for model fitting\n",
        "models = [LogisticRegression(), XGBClassifier(), SVC(kernel='rbf')]\n",
        " \n",
        "for i in range(3):\n",
        "    models[i].fit(xtrain, ytrain)\n",
        " \n",
        "    print(f'{models[i]} : ')\n",
        "    print('Training Accuracy : ', metrics.roc_auc_score(ytrain, models[i].predict(xtrain)))\n",
        "    print('Validation Accuracy : ', metrics.roc_auc_score(ytest, models[i].predict(xtest)))"
      ],
      "metadata": {
        "colab": {
          "base_uri": "https://localhost:8080/"
        },
        "id": "eBr4GgakZV4j",
        "outputId": "b0e1dfee-d366-4822-9a2e-94c3e7253c87"
      },
      "execution_count": 15,
      "outputs": [
        {
          "output_type": "stream",
          "name": "stdout",
          "text": [
            "LogisticRegression() : \n",
            "Training Accuracy :  0.700492261279959\n",
            "Validation Accuracy :  0.694394213381555\n",
            "XGBClassifier() : \n",
            "Training Accuracy :  0.7657674131156054\n",
            "Validation Accuracy :  0.7287726933725647\n",
            "SVC() : \n",
            "Training Accuracy :  0.7058374494478488\n",
            "Validation Accuracy :  0.6973008040375558\n"
          ]
        }
      ]
    },
    {
      "cell_type": "code",
      "source": [
        "# From the above accuracies we can say that XGB classifier performing better on the validation data with less difference between the validation and training data."
      ],
      "metadata": {
        "id": "8ajj19eEZaIM"
      },
      "execution_count": 16,
      "outputs": []
    },
    {
      "cell_type": "code",
      "source": [
        "#Plotting the confusion matrix as well for the validation data using the models.\n",
        "metrics.plot_confusion_matrix(models[0], xtest, ytest)\n",
        "metrics.plot_confusion_matrix(models[1], xtest, ytest)\n",
        "metrics.plot_confusion_matrix(models[2], xtest, ytest)\n",
        "plt.show()"
      ],
      "metadata": {
        "colab": {
          "base_uri": "https://localhost:8080/",
          "height": 928
        },
        "id": "8xHHerFYZaKr",
        "outputId": "924ae596-f9eb-4e5c-d394-8af495a49a7a"
      },
      "execution_count": 17,
      "outputs": [
        {
          "output_type": "stream",
          "name": "stderr",
          "text": [
            "/usr/local/lib/python3.7/dist-packages/sklearn/utils/deprecation.py:87: FutureWarning: Function plot_confusion_matrix is deprecated; Function `plot_confusion_matrix` is deprecated in 1.0 and will be removed in 1.2. Use one of the class methods: ConfusionMatrixDisplay.from_predictions or ConfusionMatrixDisplay.from_estimator.\n",
            "  warnings.warn(msg, category=FutureWarning)\n",
            "/usr/local/lib/python3.7/dist-packages/sklearn/utils/deprecation.py:87: FutureWarning: Function plot_confusion_matrix is deprecated; Function `plot_confusion_matrix` is deprecated in 1.0 and will be removed in 1.2. Use one of the class methods: ConfusionMatrixDisplay.from_predictions or ConfusionMatrixDisplay.from_estimator.\n",
            "  warnings.warn(msg, category=FutureWarning)\n",
            "/usr/local/lib/python3.7/dist-packages/sklearn/utils/deprecation.py:87: FutureWarning: Function plot_confusion_matrix is deprecated; Function `plot_confusion_matrix` is deprecated in 1.0 and will be removed in 1.2. Use one of the class methods: ConfusionMatrixDisplay.from_predictions or ConfusionMatrixDisplay.from_estimator.\n",
            "  warnings.warn(msg, category=FutureWarning)\n"
          ]
        },
        {
          "output_type": "display_data",
          "data": {
            "text/plain": [
              "<Figure size 432x288 with 2 Axes>"
            ],
            "image/png": "[encoded data removed]"
          },
          "metadata": {
            "needs_background": "light"
          }
        },
        {
          "output_type": "display_data",
          "data": {
            "text/plain": [
              "<Figure size 432x288 with 2 Axes>"
            ],
            "image/png": "[encoded data removed]"
          },
          "metadata": {
            "needs_background": "light"
          }
        },
        {
          "output_type": "display_data",
          "data": {
            "text/plain": [
              "<Figure size 432x288 with 2 Axes>"
            ],
            "image/png": "[encoded data removed]"
          },
          "metadata": {
            "needs_background": "light"
          }
        }
      ]
    },
    {
      "cell_type": "code",
      "source": [
        "#Printing the classification report for the best performing model XGB Classifier.\n",
        "print(metrics.classification_report(ytest,models[1].predict(xtest)))"
      ],
      "metadata": {
        "colab": {
          "base_uri": "https://localhost:8080/"
        },
        "id": "ISnNuL-7ZaMv",
        "outputId": "e5aa9b3d-d1cf-4af2-b883-4d353d040c92"
      },
      "execution_count": 18,
      "outputs": [
        {
          "output_type": "stream",
          "name": "stdout",
          "text": [
            "              precision    recall  f1-score   support\n",
            "\n",
            "           0       0.72      0.59      0.65       474\n",
            "           1       0.79      0.87      0.82       826\n",
            "\n",
            "    accuracy                           0.77      1300\n",
            "   macro avg       0.75      0.73      0.74      1300\n",
            "weighted avg       0.76      0.77      0.76      1300\n",
            "\n"
          ]
        }
      ]
    },
    {
      "cell_type": "markdown",
      "source": [
        "# **Elbow Plot in k-means for selecting the Hyperparameters**"
      ],
      "metadata": {
        "id": "vH144-jaaA5w"
      }
    },
    {
      "cell_type": "code",
      "source": [
        "#Building the clustering model and calculating the values of the Distortion and Inertia\n",
        "distortions = []\n",
        "inertias = []\n",
        "mapping1 = {}\n",
        "mapping2 = {}\n",
        "K = range(1, 10)\n",
        "  \n",
        "for k in K:\n",
        "    # Building and fitting the model\n",
        "    kmeanModel = KMeans(n_clusters=k).fit(df)\n",
        "    kmeanModel.fit(df)\n",
        "  \n",
        "    distortions.append(sum(np.min(cdist(df, kmeanModel.cluster_centers_,\n",
        "                                        'euclidean'), axis=1)) / df.shape[0])\n",
        "    inertias.append(kmeanModel.inertia_)\n",
        "  \n",
        "    mapping1[k] = sum(np.min(cdist(df, kmeanModel.cluster_centers_,\n",
        "                                   'euclidean'), axis=1)) / df.shape[0]\n",
        "    mapping2[k] = kmeanModel.inertia_"
      ],
      "metadata": {
        "id": "iJbYG-LN4gQm"
      },
      "execution_count": 19,
      "outputs": []
    },
    {
      "cell_type": "code",
      "source": [
        "#Using the different values of Distortion:\n",
        "for key, val in mapping1.items():\n",
        "    print(f'{key} : {val}')"
      ],
      "metadata": {
        "colab": {
          "base_uri": "https://localhost:8080/"
        },
        "id": "c96D38Jy6mLF",
        "outputId": "f5965420-8789-4f1e-ad20-c206bce7bcdd"
      },
      "execution_count": 20,
      "outputs": [
        {
          "output_type": "stream",
          "name": "stdout",
          "text": [
            "1 : 15.322142506462777\n",
            "2 : 9.749309971916789\n",
            "3 : 7.462830174590748\n",
            "4 : 6.646849862530286\n",
            "5 : 6.141138474306438\n",
            "6 : 5.711368607376239\n",
            "7 : 5.307321469545939\n",
            "8 : 5.240925786592706\n",
            "9 : 4.824878156292122\n"
          ]
        }
      ]
    },
    {
      "cell_type": "code",
      "source": [
        "#Plotting the different values of Distortion\n",
        "plt.plot(K, distortions, 'bx-')\n",
        "plt.xlabel('Values of K')\n",
        "plt.ylabel('Distortion')\n",
        "plt.title('The Elbow Method using Distortion')\n",
        "plt.show()"
      ],
      "metadata": {
        "colab": {
          "base_uri": "https://localhost:8080/",
          "height": 295
        },
        "id": "0KRnHrkR7cQw",
        "outputId": "ca21dfa8-c801-43c8-85a6-ee1ec8ceb025"
      },
      "execution_count": 21,
      "outputs": [
        {
          "output_type": "display_data",
          "data": {
            "text/plain": [
              "<Figure size 432x288 with 1 Axes>"
            ],
            "image/png": "[encoded data removed]"
          },
          "metadata": {
            "needs_background": "light"
          }
        }
      ]
    },
    {
      "cell_type": "code",
      "source": [
        "#Using the different values of Inertia:\n",
        "for key, val in mapping2.items():\n",
        "    print(f'{key} : {val}')"
      ],
      "metadata": {
        "colab": {
          "base_uri": "https://localhost:8080/"
        },
        "id": "KfrfNb-k7f4T",
        "outputId": "d6e4fde9-c9f9-4ac2-c3b3-8a937fd3584a"
      },
      "execution_count": 22,
      "outputs": [
        {
          "output_type": "stream",
          "name": "stdout",
          "text": [
            "1 : 2221979.252431934\n",
            "2 : 900529.3831688236\n",
            "3 : 553885.5908079536\n",
            "4 : 424868.03993167647\n",
            "5 : 345942.5405200766\n",
            "6 : 290503.46312444966\n",
            "7 : 254650.895932574\n",
            "8 : 222614.084070199\n",
            "9 : 191796.31029377115\n"
          ]
        }
      ]
    },
    {
      "cell_type": "code",
      "source": [
        "#Plotting the different values of Inertia:\n",
        "plt.plot(K, inertias, 'bx-')\n",
        "plt.xlabel('Values of K')\n",
        "plt.ylabel('Inertia')\n",
        "plt.title('The Elbow Method using Inertia')\n",
        "plt.show()"
      ],
      "metadata": {
        "colab": {
          "base_uri": "https://localhost:8080/",
          "height": 295
        },
        "id": "AFXBXpkj7kUm",
        "outputId": "7a6c0d5b-372f-4145-cc69-8a3bfea42ec3"
      },
      "execution_count": 23,
      "outputs": [
        {
          "output_type": "display_data",
          "data": {
            "text/plain": [
              "<Figure size 432x288 with 1 Axes>"
            ],
            "image/png": "[encoded data removed]"
          },
          "metadata": {
            "needs_background": "light"
          }
        }
      ]
    },
    {
      "cell_type": "code",
      "source": [
        "#To determine the optimal number of clusters, we have to select the value of k at the “elbow”\n",
        "#the point after which the distortion/inertia start decreasing in a linear fashion. \n",
        "#Thus for the given data, we conclude that the optimal number of clusters for the data is 3."
      ],
      "metadata": {
        "id": "5kndLeFK7nwt"
      },
      "execution_count": 24,
      "outputs": []
    },
    {
      "cell_type": "code",
      "source": [
        "#Using k nearest neighbors for model fitting by setting n value by 3\n",
        "knn_classifier = KNeighborsClassifier(n_neighbors = 3)\n",
        "score=cross_val_score(knn_classifier,xtrain, ytrain,cv=10)\n",
        "print('KNN Classifier accuracy:',score.mean())"
      ],
      "metadata": {
        "colab": {
          "base_uri": "https://localhost:8080/"
        },
        "id": "foxdgT3w9k1H",
        "outputId": "28fbae08-601b-4a84-d313-6d8d24c83914"
      },
      "execution_count": 25,
      "outputs": [
        {
          "output_type": "stream",
          "name": "stdout",
          "text": [
            "KNN Classifier accuracy: 0.7479279679857715\n"
          ]
        }
      ]
    },
    {
      "cell_type": "markdown",
      "source": [
        "# **Deep Learning Model**"
      ],
      "metadata": {
        "id": "mNXbV9qpaWYT"
      }
    },
    {
      "cell_type": "code",
      "source": [
        "# Initializing the constructor\n",
        "model = keras.models.Sequential()\n",
        "\n",
        "# Adding an input layer with 11 features as an input\n",
        "model.add(keras.layers.Dense(48, activation='relu', input_shape=(11,)))\n",
        "\n",
        "# Add three hidden layers\n",
        "model.add(keras.layers.Dense(36, activation='relu'))\n",
        "model.add(keras.layers.Dense(24, activation='relu'))\n",
        "model.add(keras.layers.Dense(8, activation='relu'))\n",
        "# Adding an output layer\n",
        "model.add(keras.layers.Dense(1, activation='sigmoid'))\n",
        "\n",
        "# Summary of model structure\n",
        "model.summary()"
      ],
      "metadata": {
        "id": "UJr-zh1l9tcM",
        "colab": {
          "base_uri": "https://localhost:8080/"
        },
        "outputId": "725575da-0925-4078-f210-3250ba37bbe9"
      },
      "execution_count": 29,
      "outputs": [
        {
          "output_type": "stream",
          "name": "stdout",
          "text": [
            "Model: \"sequential_1\"\n",
            "_________________________________________________________________\n",
            " Layer (type)                Output Shape              Param #   \n",
            "=================================================================\n",
            " dense_5 (Dense)             (None, 48)                576       \n",
            "                                                                 \n",
            " dense_6 (Dense)             (None, 36)                1764      \n",
            "                                                                 \n",
            " dense_7 (Dense)             (None, 24)                888       \n",
            "                                                                 \n",
            " dense_8 (Dense)             (None, 8)                 200       \n",
            "                                                                 \n",
            " dense_9 (Dense)             (None, 1)                 9         \n",
            "                                                                 \n",
            "=================================================================\n",
            "Total params: 3,437\n",
            "Trainable params: 3,437\n",
            "Non-trainable params: 0\n",
            "_________________________________________________________________\n"
          ]
        }
      ]
    },
    {
      "cell_type": "markdown",
      "source": [
        "# **Hyperparameter Tuning**"
      ],
      "metadata": {
        "id": "QxiM7VIzf9u0"
      }
    },
    {
      "cell_type": "code",
      "source": [
        "#Using compile function to optimize weight in a way that accuracy make increases by varying input parameters.\n",
        "tensorflow.keras.optimizers.Adam(lr=0.00001, beta_1=0.9, beta_2=0.999, amsgrad=False)\n",
        "model.compile(loss='mean_squared_error', optimizer='adam', metrics=['mse','mae','acc'])"
      ],
      "metadata": {
        "id": "zCG9uaoXZuLb"
      },
      "execution_count": 30,
      "outputs": []
    },
    {
      "cell_type": "code",
      "source": [
        "#Model fitting using deep learning's sequential model\n",
        "hist=model.fit(xtrain,ytrain, batch_size=100,validation_data=(xtest,ytest),epochs=10)"
      ],
      "metadata": {
        "colab": {
          "base_uri": "https://localhost:8080/"
        },
        "id": "E27Zqcw0fmJ5",
        "outputId": "e47fd6b6-b98b-4d74-d942-892903686bba"
      },
      "execution_count": 38,
      "outputs": [
        {
          "output_type": "stream",
          "name": "stdout",
          "text": [
            "Epoch 1/10\n",
            "6/6 [==============================] - 0s 28ms/step - loss: 0.0963 - mse: 0.0963 - mae: 0.1915 - acc: 0.8807 - val_loss: 0.1662 - val_mse: 0.1662 - val_mae: 0.2669 - val_acc: 0.7731\n",
            "Epoch 2/10\n",
            "6/6 [==============================] - 0s 26ms/step - loss: 0.0966 - mse: 0.0966 - mae: 0.1944 - acc: 0.8811 - val_loss: 0.1663 - val_mse: 0.1663 - val_mae: 0.2647 - val_acc: 0.7777\n",
            "Epoch 3/10\n",
            "6/6 [==============================] - 0s 20ms/step - loss: 0.0970 - mse: 0.0970 - mae: 0.1905 - acc: 0.8799 - val_loss: 0.1662 - val_mse: 0.1662 - val_mae: 0.2643 - val_acc: 0.7831\n",
            "Epoch 4/10\n",
            "6/6 [==============================] - 0s 19ms/step - loss: 0.0965 - mse: 0.0965 - mae: 0.1938 - acc: 0.8809 - val_loss: 0.1657 - val_mse: 0.1657 - val_mae: 0.2656 - val_acc: 0.7815\n",
            "Epoch 5/10\n",
            "6/6 [==============================] - 0s 21ms/step - loss: 0.0966 - mse: 0.0966 - mae: 0.1912 - acc: 0.8805 - val_loss: 0.1654 - val_mse: 0.1654 - val_mae: 0.2625 - val_acc: 0.7823\n",
            "Epoch 6/10\n",
            "6/6 [==============================] - 0s 19ms/step - loss: 0.0960 - mse: 0.0960 - mae: 0.1914 - acc: 0.8834 - val_loss: 0.1655 - val_mse: 0.1655 - val_mae: 0.2659 - val_acc: 0.7769\n",
            "Epoch 7/10\n",
            "6/6 [==============================] - 0s 16ms/step - loss: 0.0960 - mse: 0.0960 - mae: 0.1922 - acc: 0.8817 - val_loss: 0.1661 - val_mse: 0.1661 - val_mae: 0.2645 - val_acc: 0.7831\n",
            "Epoch 8/10\n",
            "6/6 [==============================] - 0s 21ms/step - loss: 0.0958 - mse: 0.0958 - mae: 0.1909 - acc: 0.8819 - val_loss: 0.1665 - val_mse: 0.1665 - val_mae: 0.2660 - val_acc: 0.7769\n",
            "Epoch 9/10\n",
            "6/6 [==============================] - 0s 22ms/step - loss: 0.0965 - mse: 0.0965 - mae: 0.1932 - acc: 0.8805 - val_loss: 0.1660 - val_mse: 0.1660 - val_mae: 0.2633 - val_acc: 0.7823\n",
            "Epoch 10/10\n",
            "6/6 [==============================] - 0s 29ms/step - loss: 0.0962 - mse: 0.0962 - mae: 0.1899 - acc: 0.8820 - val_loss: 0.1659 - val_mse: 0.1659 - val_mae: 0.2645 - val_acc: 0.7792\n"
          ]
        }
      ]
    },
    {
      "cell_type": "code",
      "source": [
        "#Evaluation sequential model perfomance\n",
        "score = model.evaluate(xtest, ytest, verbose = 0) \n",
        "\n",
        "print('Validation loss:', score[0]) \n",
        "print('Validation accuracy:', score[3])"
      ],
      "metadata": {
        "colab": {
          "base_uri": "https://localhost:8080/"
        },
        "id": "ItFUNO_hhUvn",
        "outputId": "0a62e85c-8516-43d5-ce33-abb10ecebc1c"
      },
      "execution_count": 39,
      "outputs": [
        {
          "output_type": "stream",
          "name": "stdout",
          "text": [
            "Validation loss: 0.16587793827056885\n",
            "Validation accuracy: 0.7792307734489441\n"
          ]
        }
      ]
    },
    {
      "cell_type": "code",
      "source": [
        "# plot the loss\n",
        "plt.plot(hist.history['loss'], label='train loss')\n",
        "plt.plot(hist.history['val_loss'], label='val loss')\n",
        "plt.legend()\n",
        "plt.show()\n",
        "\n",
        "# plot the accuracy\n",
        "plt.plot(hist.history['acc'], label='train acc')\n",
        "plt.plot(hist.history['val_acc'], label='val acc')\n",
        "plt.legend()\n",
        "plt.show()"
      ],
      "metadata": {
        "id": "vLEiCUAHh4ni",
        "colab": {
          "base_uri": "https://localhost:8080/",
          "height": 517
        },
        "outputId": "31835997-f5b0-4db7-eccd-f9cd2d84cddf"
      },
      "execution_count": 40,
      "outputs": [
        {
          "output_type": "display_data",
          "data": {
            "text/plain": [
              "<Figure size 432x288 with 1 Axes>"
            ],
            "image/png": "[encoded data removed]"
          },
          "metadata": {
            "needs_background": "light"
          }
        },
        {
          "output_type": "display_data",
          "data": {
            "text/plain": [
              "<Figure size 432x288 with 1 Axes>"
            ],
            "image/png": "[encoded data removed]"
          },
          "metadata": {
            "needs_background": "light"
          }
        }
      ]
    },
    {
      "cell_type": "code",
      "source": [],
      "metadata": {
        "id": "YfXzTYofAF7U"
      },
      "execution_count": null,
      "outputs": []
    }
  ]
}